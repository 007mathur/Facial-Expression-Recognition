{
 "metadata": {
  "language_info": {
   "codemirror_mode": {
    "name": "ipython",
    "version": 3
   },
   "file_extension": ".py",
   "mimetype": "text/x-python",
   "name": "python",
   "nbconvert_exporter": "python",
   "pygments_lexer": "ipython3",
   "version": "3.8.2-final"
  },
  "orig_nbformat": 2,
  "kernelspec": {
   "name": "python_defaultSpec_1598637579295",
   "display_name": "Python 3.8.2 64-bit"
  }
 },
 "nbformat": 4,
 "nbformat_minor": 2,
 "cells": [
  {
   "cell_type": "code",
   "execution_count": 1,
   "metadata": {},
   "outputs": [],
   "source": [
    "import numpy as np\n",
    "import pandas as pd \n",
    "import matplotlib.pyplot as plt \n",
    "import os\n",
    "import cv2 "
   ]
  },
  {
   "cell_type": "code",
   "execution_count": 2,
   "metadata": {},
   "outputs": [],
   "source": [
    "TRAIN = \"TRAIN_FOLDER_PATH\"\n",
    "TEST =  \"TEST_FOLDER_PATH\"\n",
    "CATEGORIES = [\"angry\", \"disgust\", \"fear\", \"happy\", \"neutral\", \"sad\", \"surprise\"]"
   ]
  },
  {
   "cell_type": "code",
   "execution_count": 3,
   "metadata": {},
   "outputs": [],
   "source": [
    "training_data = []\n",
    "test_data = []"
   ]
  },
  {
   "cell_type": "code",
   "execution_count": 4,
   "metadata": {},
   "outputs": [],
   "source": [
    "def create_training_data():\n",
    "    for category in CATEGORIES:\n",
    "        path = os.path.join(TRAIN,category)\n",
    "        class_num = CATEGORIES.index(category)\n",
    "        for img in os.listdir(path):\n",
    "            img_array = cv2.imread(os.path.join(path,img), cv2.IMREAD_GRAYSCALE)\n",
    "            for i in range(0,48):\n",
    "                for j in range(0,48):\n",
    "                    training_data.append(img_array[i][j])\n",
    "            training_data.append(class_num)"
   ]
  },
  {
   "cell_type": "code",
   "execution_count": 5,
   "metadata": {},
   "outputs": [],
   "source": [
    "create_training_data()"
   ]
  },
  {
   "cell_type": "code",
   "execution_count": 6,
   "metadata": {},
   "outputs": [],
   "source": [
    "def create_test_data():\n",
    "    for category in CATEGORIES:\n",
    "        path = os.path.join(TEST,category)\n",
    "        class_num = CATEGORIES.index(category)\n",
    "        for img in os.listdir(path):\n",
    "            img_array = cv2.imread(os.path.join(path,img), cv2.IMREAD_GRAYSCALE)\n",
    "            for i in range(0,48):\n",
    "                for j in range(0,48):\n",
    "                    test_data.append(img_array[i][j])\n",
    "            test_data.append(class_num)"
   ]
  },
  {
   "cell_type": "code",
   "execution_count": 7,
   "metadata": {},
   "outputs": [],
   "source": [
    "create_test_data()"
   ]
  },
  {
   "cell_type": "code",
   "execution_count": 8,
   "metadata": {},
   "outputs": [
    {
     "output_type": "execute_result",
     "data": {
      "text/plain": "66174245"
     },
     "metadata": {},
     "execution_count": 8
    }
   ],
   "source": [
    "len(training_data)"
   ]
  },
  {
   "cell_type": "code",
   "execution_count": 9,
   "metadata": {},
   "outputs": [
    {
     "output_type": "execute_result",
     "data": {
      "text/plain": "(66174245,)"
     },
     "metadata": {},
     "execution_count": 9
    }
   ],
   "source": [
    "train = np.array(training_data)\n",
    "train.shape"
   ]
  },
  {
   "cell_type": "code",
   "execution_count": 10,
   "metadata": {},
   "outputs": [],
   "source": [
    "train = train.reshape((28709,2305))"
   ]
  },
  {
   "cell_type": "code",
   "execution_count": 11,
   "metadata": {},
   "outputs": [
    {
     "output_type": "execute_result",
     "data": {
      "text/plain": "(16545290,)"
     },
     "metadata": {},
     "execution_count": 11
    }
   ],
   "source": [
    "test = np.array(test_data)\n",
    "test.shape"
   ]
  },
  {
   "cell_type": "code",
   "execution_count": 12,
   "metadata": {},
   "outputs": [],
   "source": [
    "test = test.reshape((7178,2305))"
   ]
  },
  {
   "cell_type": "code",
   "execution_count": 13,
   "metadata": {},
   "outputs": [
    {
     "output_type": "execute_result",
     "data": {
      "text/plain": "((28709, 2305), (7178, 2305))"
     },
     "metadata": {},
     "execution_count": 13
    }
   ],
   "source": [
    "train.shape, test.shape"
   ]
  },
  {
   "cell_type": "code",
   "execution_count": 14,
   "metadata": {},
   "outputs": [
    {
     "output_type": "execute_result",
     "data": {
      "text/plain": "   pixel1  pixel2  pixel3  pixel4  pixel5  pixel6  pixel7  pixel8  pixel9  \\\n0      50      32      15      11      12      10      10       8      15   \n1      29      24      29      11      15      22      26      11       7   \n2       0       0       0       0       0       0       0       0       0   \n3     155     138      98     112      94      97     111     107     101   \n4     211     215     220     221     219     216     213     210     207   \n\n   pixel10  ...  pixel2296  pixel2297  pixel2298  pixel2299  pixel2300  \\\n0       10  ...        157        156        152        148        151   \n1       17  ...        109        165        148         75         49   \n2        0  ...          0          0          0          0          0   \n3       84  ...         97         95         92         94        101   \n4      205  ...        170        168        162        170        169   \n\n   pixel2301  pixel2302  pixel2303  pixel2304  pixel2305  \n0        141        143        136         83          0  \n1         33         15         24         24          0  \n2          0          0          0          0          0  \n3        108        111        112        109          0  \n4        160        159        156        152          0  \n\n[5 rows x 2305 columns]",
      "text/html": "<div>\n<style scoped>\n    .dataframe tbody tr th:only-of-type {\n        vertical-align: middle;\n    }\n\n    .dataframe tbody tr th {\n        vertical-align: top;\n    }\n\n    .dataframe thead th {\n        text-align: right;\n    }\n</style>\n<table border=\"1\" class=\"dataframe\">\n  <thead>\n    <tr style=\"text-align: right;\">\n      <th></th>\n      <th>pixel1</th>\n      <th>pixel2</th>\n      <th>pixel3</th>\n      <th>pixel4</th>\n      <th>pixel5</th>\n      <th>pixel6</th>\n      <th>pixel7</th>\n      <th>pixel8</th>\n      <th>pixel9</th>\n      <th>pixel10</th>\n      <th>...</th>\n      <th>pixel2296</th>\n      <th>pixel2297</th>\n      <th>pixel2298</th>\n      <th>pixel2299</th>\n      <th>pixel2300</th>\n      <th>pixel2301</th>\n      <th>pixel2302</th>\n      <th>pixel2303</th>\n      <th>pixel2304</th>\n      <th>pixel2305</th>\n    </tr>\n  </thead>\n  <tbody>\n    <tr>\n      <th>0</th>\n      <td>50</td>\n      <td>32</td>\n      <td>15</td>\n      <td>11</td>\n      <td>12</td>\n      <td>10</td>\n      <td>10</td>\n      <td>8</td>\n      <td>15</td>\n      <td>10</td>\n      <td>...</td>\n      <td>157</td>\n      <td>156</td>\n      <td>152</td>\n      <td>148</td>\n      <td>151</td>\n      <td>141</td>\n      <td>143</td>\n      <td>136</td>\n      <td>83</td>\n      <td>0</td>\n    </tr>\n    <tr>\n      <th>1</th>\n      <td>29</td>\n      <td>24</td>\n      <td>29</td>\n      <td>11</td>\n      <td>15</td>\n      <td>22</td>\n      <td>26</td>\n      <td>11</td>\n      <td>7</td>\n      <td>17</td>\n      <td>...</td>\n      <td>109</td>\n      <td>165</td>\n      <td>148</td>\n      <td>75</td>\n      <td>49</td>\n      <td>33</td>\n      <td>15</td>\n      <td>24</td>\n      <td>24</td>\n      <td>0</td>\n    </tr>\n    <tr>\n      <th>2</th>\n      <td>0</td>\n      <td>0</td>\n      <td>0</td>\n      <td>0</td>\n      <td>0</td>\n      <td>0</td>\n      <td>0</td>\n      <td>0</td>\n      <td>0</td>\n      <td>0</td>\n      <td>...</td>\n      <td>0</td>\n      <td>0</td>\n      <td>0</td>\n      <td>0</td>\n      <td>0</td>\n      <td>0</td>\n      <td>0</td>\n      <td>0</td>\n      <td>0</td>\n      <td>0</td>\n    </tr>\n    <tr>\n      <th>3</th>\n      <td>155</td>\n      <td>138</td>\n      <td>98</td>\n      <td>112</td>\n      <td>94</td>\n      <td>97</td>\n      <td>111</td>\n      <td>107</td>\n      <td>101</td>\n      <td>84</td>\n      <td>...</td>\n      <td>97</td>\n      <td>95</td>\n      <td>92</td>\n      <td>94</td>\n      <td>101</td>\n      <td>108</td>\n      <td>111</td>\n      <td>112</td>\n      <td>109</td>\n      <td>0</td>\n    </tr>\n    <tr>\n      <th>4</th>\n      <td>211</td>\n      <td>215</td>\n      <td>220</td>\n      <td>221</td>\n      <td>219</td>\n      <td>216</td>\n      <td>213</td>\n      <td>210</td>\n      <td>207</td>\n      <td>205</td>\n      <td>...</td>\n      <td>170</td>\n      <td>168</td>\n      <td>162</td>\n      <td>170</td>\n      <td>169</td>\n      <td>160</td>\n      <td>159</td>\n      <td>156</td>\n      <td>152</td>\n      <td>0</td>\n    </tr>\n  </tbody>\n</table>\n<p>5 rows × 2305 columns</p>\n</div>"
     },
     "metadata": {},
     "execution_count": 14
    }
   ],
   "source": [
    "train_df=pd.DataFrame(data=train[0:,0:], index=[i for i in range(train.shape[0])], columns=['pixel'+str(i+1) for i in range(train.shape[1])])\n",
    "train_df.head()"
   ]
  },
  {
   "cell_type": "code",
   "execution_count": 15,
   "metadata": {},
   "outputs": [],
   "source": [
    "train_df.rename(columns = {\"pixel2305\":\"Label\"}, inplace = True)"
   ]
  },
  {
   "cell_type": "code",
   "execution_count": 16,
   "metadata": {},
   "outputs": [
    {
     "output_type": "execute_result",
     "data": {
      "text/plain": "   pixel1  pixel2  pixel3  pixel4  pixel5  pixel6  pixel7  pixel8  pixel9  \\\n0      50      32      15      11      12      10      10       8      15   \n1      29      24      29      11      15      22      26      11       7   \n2       0       0       0       0       0       0       0       0       0   \n3     155     138      98     112      94      97     111     107     101   \n4     211     215     220     221     219     216     213     210     207   \n\n   pixel10  ...  pixel2296  pixel2297  pixel2298  pixel2299  pixel2300  \\\n0       10  ...        157        156        152        148        151   \n1       17  ...        109        165        148         75         49   \n2        0  ...          0          0          0          0          0   \n3       84  ...         97         95         92         94        101   \n4      205  ...        170        168        162        170        169   \n\n   pixel2301  pixel2302  pixel2303  pixel2304  Label  \n0        141        143        136         83      0  \n1         33         15         24         24      0  \n2          0          0          0          0      0  \n3        108        111        112        109      0  \n4        160        159        156        152      0  \n\n[5 rows x 2305 columns]",
      "text/html": "<div>\n<style scoped>\n    .dataframe tbody tr th:only-of-type {\n        vertical-align: middle;\n    }\n\n    .dataframe tbody tr th {\n        vertical-align: top;\n    }\n\n    .dataframe thead th {\n        text-align: right;\n    }\n</style>\n<table border=\"1\" class=\"dataframe\">\n  <thead>\n    <tr style=\"text-align: right;\">\n      <th></th>\n      <th>pixel1</th>\n      <th>pixel2</th>\n      <th>pixel3</th>\n      <th>pixel4</th>\n      <th>pixel5</th>\n      <th>pixel6</th>\n      <th>pixel7</th>\n      <th>pixel8</th>\n      <th>pixel9</th>\n      <th>pixel10</th>\n      <th>...</th>\n      <th>pixel2296</th>\n      <th>pixel2297</th>\n      <th>pixel2298</th>\n      <th>pixel2299</th>\n      <th>pixel2300</th>\n      <th>pixel2301</th>\n      <th>pixel2302</th>\n      <th>pixel2303</th>\n      <th>pixel2304</th>\n      <th>Label</th>\n    </tr>\n  </thead>\n  <tbody>\n    <tr>\n      <th>0</th>\n      <td>50</td>\n      <td>32</td>\n      <td>15</td>\n      <td>11</td>\n      <td>12</td>\n      <td>10</td>\n      <td>10</td>\n      <td>8</td>\n      <td>15</td>\n      <td>10</td>\n      <td>...</td>\n      <td>157</td>\n      <td>156</td>\n      <td>152</td>\n      <td>148</td>\n      <td>151</td>\n      <td>141</td>\n      <td>143</td>\n      <td>136</td>\n      <td>83</td>\n      <td>0</td>\n    </tr>\n    <tr>\n      <th>1</th>\n      <td>29</td>\n      <td>24</td>\n      <td>29</td>\n      <td>11</td>\n      <td>15</td>\n      <td>22</td>\n      <td>26</td>\n      <td>11</td>\n      <td>7</td>\n      <td>17</td>\n      <td>...</td>\n      <td>109</td>\n      <td>165</td>\n      <td>148</td>\n      <td>75</td>\n      <td>49</td>\n      <td>33</td>\n      <td>15</td>\n      <td>24</td>\n      <td>24</td>\n      <td>0</td>\n    </tr>\n    <tr>\n      <th>2</th>\n      <td>0</td>\n      <td>0</td>\n      <td>0</td>\n      <td>0</td>\n      <td>0</td>\n      <td>0</td>\n      <td>0</td>\n      <td>0</td>\n      <td>0</td>\n      <td>0</td>\n      <td>...</td>\n      <td>0</td>\n      <td>0</td>\n      <td>0</td>\n      <td>0</td>\n      <td>0</td>\n      <td>0</td>\n      <td>0</td>\n      <td>0</td>\n      <td>0</td>\n      <td>0</td>\n    </tr>\n    <tr>\n      <th>3</th>\n      <td>155</td>\n      <td>138</td>\n      <td>98</td>\n      <td>112</td>\n      <td>94</td>\n      <td>97</td>\n      <td>111</td>\n      <td>107</td>\n      <td>101</td>\n      <td>84</td>\n      <td>...</td>\n      <td>97</td>\n      <td>95</td>\n      <td>92</td>\n      <td>94</td>\n      <td>101</td>\n      <td>108</td>\n      <td>111</td>\n      <td>112</td>\n      <td>109</td>\n      <td>0</td>\n    </tr>\n    <tr>\n      <th>4</th>\n      <td>211</td>\n      <td>215</td>\n      <td>220</td>\n      <td>221</td>\n      <td>219</td>\n      <td>216</td>\n      <td>213</td>\n      <td>210</td>\n      <td>207</td>\n      <td>205</td>\n      <td>...</td>\n      <td>170</td>\n      <td>168</td>\n      <td>162</td>\n      <td>170</td>\n      <td>169</td>\n      <td>160</td>\n      <td>159</td>\n      <td>156</td>\n      <td>152</td>\n      <td>0</td>\n    </tr>\n  </tbody>\n</table>\n<p>5 rows × 2305 columns</p>\n</div>"
     },
     "metadata": {},
     "execution_count": 16
    }
   ],
   "source": [
    "train_df.head()"
   ]
  },
  {
   "cell_type": "code",
   "execution_count": 17,
   "metadata": {},
   "outputs": [
    {
     "output_type": "execute_result",
     "data": {
      "text/plain": "   pixel1  pixel2  pixel3  pixel4  pixel5  pixel6  pixel7  pixel8  pixel9  \\\n0      46      34      26      23      12      32      35      26      26   \n1      55      33      54      32      26      21      50      29      38   \n2     123     123     126     131     124      69     109     149     159   \n3     255     255     255     255     255     255     255     255     255   \n4     127     121     124     137     123     118     120     111     111   \n\n   pixel10  ...  pixel2296  pixel2297  pixel2298  pixel2299  pixel2300  \\\n0       38  ...        150        135        164        168        131   \n1       45  ...        224        218        222        224        222   \n2      174  ...          5          3          5          4          3   \n3      251  ...        177        174        168         88         19   \n4      109  ...        177        186        174        172        226   \n\n   pixel2301  pixel2302  pixel2303  pixel2304  pixel2305  \n0        128        165        180        189          0  \n1        202        132        163        187          0  \n2          2          4          4          3          0  \n3         40         37         37         37          0  \n4        131         53        118        233          0  \n\n[5 rows x 2305 columns]",
      "text/html": "<div>\n<style scoped>\n    .dataframe tbody tr th:only-of-type {\n        vertical-align: middle;\n    }\n\n    .dataframe tbody tr th {\n        vertical-align: top;\n    }\n\n    .dataframe thead th {\n        text-align: right;\n    }\n</style>\n<table border=\"1\" class=\"dataframe\">\n  <thead>\n    <tr style=\"text-align: right;\">\n      <th></th>\n      <th>pixel1</th>\n      <th>pixel2</th>\n      <th>pixel3</th>\n      <th>pixel4</th>\n      <th>pixel5</th>\n      <th>pixel6</th>\n      <th>pixel7</th>\n      <th>pixel8</th>\n      <th>pixel9</th>\n      <th>pixel10</th>\n      <th>...</th>\n      <th>pixel2296</th>\n      <th>pixel2297</th>\n      <th>pixel2298</th>\n      <th>pixel2299</th>\n      <th>pixel2300</th>\n      <th>pixel2301</th>\n      <th>pixel2302</th>\n      <th>pixel2303</th>\n      <th>pixel2304</th>\n      <th>pixel2305</th>\n    </tr>\n  </thead>\n  <tbody>\n    <tr>\n      <th>0</th>\n      <td>46</td>\n      <td>34</td>\n      <td>26</td>\n      <td>23</td>\n      <td>12</td>\n      <td>32</td>\n      <td>35</td>\n      <td>26</td>\n      <td>26</td>\n      <td>38</td>\n      <td>...</td>\n      <td>150</td>\n      <td>135</td>\n      <td>164</td>\n      <td>168</td>\n      <td>131</td>\n      <td>128</td>\n      <td>165</td>\n      <td>180</td>\n      <td>189</td>\n      <td>0</td>\n    </tr>\n    <tr>\n      <th>1</th>\n      <td>55</td>\n      <td>33</td>\n      <td>54</td>\n      <td>32</td>\n      <td>26</td>\n      <td>21</td>\n      <td>50</td>\n      <td>29</td>\n      <td>38</td>\n      <td>45</td>\n      <td>...</td>\n      <td>224</td>\n      <td>218</td>\n      <td>222</td>\n      <td>224</td>\n      <td>222</td>\n      <td>202</td>\n      <td>132</td>\n      <td>163</td>\n      <td>187</td>\n      <td>0</td>\n    </tr>\n    <tr>\n      <th>2</th>\n      <td>123</td>\n      <td>123</td>\n      <td>126</td>\n      <td>131</td>\n      <td>124</td>\n      <td>69</td>\n      <td>109</td>\n      <td>149</td>\n      <td>159</td>\n      <td>174</td>\n      <td>...</td>\n      <td>5</td>\n      <td>3</td>\n      <td>5</td>\n      <td>4</td>\n      <td>3</td>\n      <td>2</td>\n      <td>4</td>\n      <td>4</td>\n      <td>3</td>\n      <td>0</td>\n    </tr>\n    <tr>\n      <th>3</th>\n      <td>255</td>\n      <td>255</td>\n      <td>255</td>\n      <td>255</td>\n      <td>255</td>\n      <td>255</td>\n      <td>255</td>\n      <td>255</td>\n      <td>255</td>\n      <td>251</td>\n      <td>...</td>\n      <td>177</td>\n      <td>174</td>\n      <td>168</td>\n      <td>88</td>\n      <td>19</td>\n      <td>40</td>\n      <td>37</td>\n      <td>37</td>\n      <td>37</td>\n      <td>0</td>\n    </tr>\n    <tr>\n      <th>4</th>\n      <td>127</td>\n      <td>121</td>\n      <td>124</td>\n      <td>137</td>\n      <td>123</td>\n      <td>118</td>\n      <td>120</td>\n      <td>111</td>\n      <td>111</td>\n      <td>109</td>\n      <td>...</td>\n      <td>177</td>\n      <td>186</td>\n      <td>174</td>\n      <td>172</td>\n      <td>226</td>\n      <td>131</td>\n      <td>53</td>\n      <td>118</td>\n      <td>233</td>\n      <td>0</td>\n    </tr>\n  </tbody>\n</table>\n<p>5 rows × 2305 columns</p>\n</div>"
     },
     "metadata": {},
     "execution_count": 17
    }
   ],
   "source": [
    "test_df=pd.DataFrame(data=test[0:,0:], index=[i for i in range(test.shape[0])], columns=['pixel'+str(i+1) for i in range(test.shape[1])])\n",
    "test_df.head()"
   ]
  },
  {
   "cell_type": "code",
   "execution_count": 18,
   "metadata": {},
   "outputs": [],
   "source": [
    "test_df.rename(columns = {\"pixel2305\":\"Label\"}, inplace=True)"
   ]
  },
  {
   "cell_type": "code",
   "execution_count": 19,
   "metadata": {},
   "outputs": [
    {
     "output_type": "execute_result",
     "data": {
      "text/plain": "   pixel1  pixel2  pixel3  pixel4  pixel5  pixel6  pixel7  pixel8  pixel9  \\\n0      46      34      26      23      12      32      35      26      26   \n1      55      33      54      32      26      21      50      29      38   \n2     123     123     126     131     124      69     109     149     159   \n3     255     255     255     255     255     255     255     255     255   \n4     127     121     124     137     123     118     120     111     111   \n\n   pixel10  ...  pixel2296  pixel2297  pixel2298  pixel2299  pixel2300  \\\n0       38  ...        150        135        164        168        131   \n1       45  ...        224        218        222        224        222   \n2      174  ...          5          3          5          4          3   \n3      251  ...        177        174        168         88         19   \n4      109  ...        177        186        174        172        226   \n\n   pixel2301  pixel2302  pixel2303  pixel2304  Label  \n0        128        165        180        189      0  \n1        202        132        163        187      0  \n2          2          4          4          3      0  \n3         40         37         37         37      0  \n4        131         53        118        233      0  \n\n[5 rows x 2305 columns]",
      "text/html": "<div>\n<style scoped>\n    .dataframe tbody tr th:only-of-type {\n        vertical-align: middle;\n    }\n\n    .dataframe tbody tr th {\n        vertical-align: top;\n    }\n\n    .dataframe thead th {\n        text-align: right;\n    }\n</style>\n<table border=\"1\" class=\"dataframe\">\n  <thead>\n    <tr style=\"text-align: right;\">\n      <th></th>\n      <th>pixel1</th>\n      <th>pixel2</th>\n      <th>pixel3</th>\n      <th>pixel4</th>\n      <th>pixel5</th>\n      <th>pixel6</th>\n      <th>pixel7</th>\n      <th>pixel8</th>\n      <th>pixel9</th>\n      <th>pixel10</th>\n      <th>...</th>\n      <th>pixel2296</th>\n      <th>pixel2297</th>\n      <th>pixel2298</th>\n      <th>pixel2299</th>\n      <th>pixel2300</th>\n      <th>pixel2301</th>\n      <th>pixel2302</th>\n      <th>pixel2303</th>\n      <th>pixel2304</th>\n      <th>Label</th>\n    </tr>\n  </thead>\n  <tbody>\n    <tr>\n      <th>0</th>\n      <td>46</td>\n      <td>34</td>\n      <td>26</td>\n      <td>23</td>\n      <td>12</td>\n      <td>32</td>\n      <td>35</td>\n      <td>26</td>\n      <td>26</td>\n      <td>38</td>\n      <td>...</td>\n      <td>150</td>\n      <td>135</td>\n      <td>164</td>\n      <td>168</td>\n      <td>131</td>\n      <td>128</td>\n      <td>165</td>\n      <td>180</td>\n      <td>189</td>\n      <td>0</td>\n    </tr>\n    <tr>\n      <th>1</th>\n      <td>55</td>\n      <td>33</td>\n      <td>54</td>\n      <td>32</td>\n      <td>26</td>\n      <td>21</td>\n      <td>50</td>\n      <td>29</td>\n      <td>38</td>\n      <td>45</td>\n      <td>...</td>\n      <td>224</td>\n      <td>218</td>\n      <td>222</td>\n      <td>224</td>\n      <td>222</td>\n      <td>202</td>\n      <td>132</td>\n      <td>163</td>\n      <td>187</td>\n      <td>0</td>\n    </tr>\n    <tr>\n      <th>2</th>\n      <td>123</td>\n      <td>123</td>\n      <td>126</td>\n      <td>131</td>\n      <td>124</td>\n      <td>69</td>\n      <td>109</td>\n      <td>149</td>\n      <td>159</td>\n      <td>174</td>\n      <td>...</td>\n      <td>5</td>\n      <td>3</td>\n      <td>5</td>\n      <td>4</td>\n      <td>3</td>\n      <td>2</td>\n      <td>4</td>\n      <td>4</td>\n      <td>3</td>\n      <td>0</td>\n    </tr>\n    <tr>\n      <th>3</th>\n      <td>255</td>\n      <td>255</td>\n      <td>255</td>\n      <td>255</td>\n      <td>255</td>\n      <td>255</td>\n      <td>255</td>\n      <td>255</td>\n      <td>255</td>\n      <td>251</td>\n      <td>...</td>\n      <td>177</td>\n      <td>174</td>\n      <td>168</td>\n      <td>88</td>\n      <td>19</td>\n      <td>40</td>\n      <td>37</td>\n      <td>37</td>\n      <td>37</td>\n      <td>0</td>\n    </tr>\n    <tr>\n      <th>4</th>\n      <td>127</td>\n      <td>121</td>\n      <td>124</td>\n      <td>137</td>\n      <td>123</td>\n      <td>118</td>\n      <td>120</td>\n      <td>111</td>\n      <td>111</td>\n      <td>109</td>\n      <td>...</td>\n      <td>177</td>\n      <td>186</td>\n      <td>174</td>\n      <td>172</td>\n      <td>226</td>\n      <td>131</td>\n      <td>53</td>\n      <td>118</td>\n      <td>233</td>\n      <td>0</td>\n    </tr>\n  </tbody>\n</table>\n<p>5 rows × 2305 columns</p>\n</div>"
     },
     "metadata": {},
     "execution_count": 19
    }
   ],
   "source": [
    "test_df.head()"
   ]
  },
  {
   "cell_type": "code",
   "execution_count": 20,
   "metadata": {},
   "outputs": [],
   "source": [
    "train_df.to_csv('TRAIN_FILE_PATH.csv') "
   ]
  },
  {
   "cell_type": "code",
   "execution_count": 22,
   "metadata": {},
   "outputs": [],
   "source": [
    "test_df.to_csv('TEST_FILE_PATH.csv') "
   ]
  }
 ]
}
