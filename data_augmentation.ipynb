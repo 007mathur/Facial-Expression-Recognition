{
 "metadata": {
  "language_info": {
   "codemirror_mode": {
    "name": "ipython",
    "version": 3
   },
   "file_extension": ".py",
   "mimetype": "text/x-python",
   "name": "python",
   "nbconvert_exporter": "python",
   "pygments_lexer": "ipython3",
   "version": "3.8.2-final"
  },
  "orig_nbformat": 2,
  "kernelspec": {
   "name": "python38264bite5dc68241b3e4559aae846c0e3ff9206",
   "display_name": "Python 3.8.2 64-bit",
   "language": "python"
  }
 },
 "nbformat": 4,
 "nbformat_minor": 2,
 "cells": [
  {
   "cell_type": "code",
   "execution_count": 1,
   "metadata": {},
   "outputs": [],
   "source": [
    "import numpy as numpy\n",
    "import pandas as pd \n",
    "from tensorflow import keras\n",
    "from keras.preprocessing.image import ImageDataGenerator, load_img, img_to_array"
   ]
  },
  {
   "cell_type": "code",
   "execution_count": 2,
   "metadata": {},
   "outputs": [],
   "source": [
    "datagen = ImageDataGenerator(rotation_range=270,   \n",
    "                             horizontal_flip=True,\n",
    "                             vertical_flip=True)"
   ]
  },
  {
   "cell_type": "code",
   "execution_count": 3,
   "metadata": {},
   "outputs": [],
   "source": [
    "path1 = r\"D:\\\\Utkarsh Mathur\\\\Career\\\\Data Science\\\\Datasets\\\\FER 2013//Disgust\" \n",
    "path2 = r\"D:\\\\Utkarsh Mathur\\\\Career\\\\Data Science\\\\Datasets\\\\FER 2013//Aug\"\n",
    "path3 = r\"D:\\\\Utkarsh Mathur\\\\Career\\\\Data Science\\\\Datasets\\\\FER 2013//Aug1\"\n",
    "path4 = r\"D:\\\\Utkarsh Mathur\\\\Career\\\\Data Science\\\\Datasets\\\\FER 2013//Aug2\"\n",
    "path5 = r\"D:\\\\Utkarsh Mathur\\\\Career\\\\Data Science\\\\Datasets\\\\FER 2013//Aug3\"\n",
    "path6 = r\"D:\\\\Utkarsh Mathur\\\\Career\\\\Data Science\\\\Datasets\\\\FER 2013//Aug4\""
   ]
  },
  {
   "cell_type": "code",
   "execution_count": 4,
   "metadata": {},
   "outputs": [
    {
     "output_type": "stream",
     "name": "stdout",
     "text": [
      "Found 547 images belonging to 2 classes.\n"
     ]
    }
   ],
   "source": [
    "train_generator = datagen.flow_from_directory(path1,\n",
    "                               save_to_dir=path2,\n",
    "                               color_mode='grayscale',\n",
    "                               class_mode='categorical',\n",
    "                               target_size=(48,48),\n",
    "                               save_prefix='aug',\n",
    "                               save_format='jpeg',\n",
    "                               batch_size=547)\n",
    "batch = next(train_generator) "
   ]
  },
  {
   "cell_type": "code",
   "execution_count": 5,
   "metadata": {},
   "outputs": [
    {
     "output_type": "stream",
     "name": "stdout",
     "text": [
      "Found 547 images belonging to 2 classes.\n"
     ]
    }
   ],
   "source": [
    "train_generator = datagen.flow_from_directory(path1,\n",
    "                               save_to_dir=path3,\n",
    "                               color_mode='grayscale',\n",
    "                               class_mode='categorical',\n",
    "                               target_size=(48,48),\n",
    "                               save_prefix='aug1',\n",
    "                               save_format='jpeg',\n",
    "                               batch_size=547)\n",
    "batch = next(train_generator) "
   ]
  },
  {
   "cell_type": "code",
   "execution_count": 6,
   "metadata": {},
   "outputs": [
    {
     "output_type": "stream",
     "name": "stdout",
     "text": [
      "Found 547 images belonging to 2 classes.\n"
     ]
    }
   ],
   "source": [
    "train_generator = datagen.flow_from_directory(path1,\n",
    "                               save_to_dir=path4,\n",
    "                               color_mode='grayscale',\n",
    "                               class_mode='categorical',\n",
    "                               target_size=(48,48),\n",
    "                               save_prefix='aug2',\n",
    "                               save_format='jpeg',\n",
    "                               batch_size=547)\n",
    "batch = next(train_generator) "
   ]
  },
  {
   "cell_type": "code",
   "execution_count": 7,
   "metadata": {},
   "outputs": [
    {
     "output_type": "stream",
     "name": "stdout",
     "text": [
      "Found 547 images belonging to 2 classes.\n"
     ]
    }
   ],
   "source": [
    "train_generator = datagen.flow_from_directory(path1,\n",
    "                               save_to_dir=path5,\n",
    "                               color_mode='grayscale',\n",
    "                               class_mode='categorical',\n",
    "                               target_size=(48,48),\n",
    "                               save_prefix='aug3',\n",
    "                               save_format='jpeg',\n",
    "                               batch_size=547)\n",
    "batch = next(train_generator) "
   ]
  },
  {
   "cell_type": "code",
   "execution_count": 8,
   "metadata": {},
   "outputs": [
    {
     "output_type": "stream",
     "name": "stdout",
     "text": [
      "Found 547 images belonging to 2 classes.\n"
     ]
    }
   ],
   "source": [
    "train_generator = datagen.flow_from_directory(path1,\n",
    "                               save_to_dir=path6,\n",
    "                               color_mode='grayscale',\n",
    "                               class_mode='categorical',\n",
    "                               target_size=(48,48),\n",
    "                               save_prefix='aug4',\n",
    "                               save_format='jpeg',\n",
    "                               batch_size=547)\n",
    "batch = next(train_generator) "
   ]
  }
 ]
}